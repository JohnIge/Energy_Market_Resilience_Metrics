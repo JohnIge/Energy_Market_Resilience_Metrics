{
 "cells": [
  {
   "cell_type": "markdown",
   "metadata": {},
   "source": [
    "**Energy Market Resilience Metrics** : *Analyzing Vunerabilities and Preparing for Disruptions*\n",
    "\n",
    "A project powered by AMDARI to give data analysts the technical expertise and knowledge about the energy market.\n",
    "\n",
    "**Case Study**: *Energix Enterprise*"
   ]
  },
  {
   "cell_type": "code",
   "execution_count": null,
   "metadata": {},
   "outputs": [],
   "source": [
    "#Import the necessary libraries\n",
    "import pandas as pd\n",
    "import matplotlib.pyplot as plt\n",
    "import seaborn as sns\n",
    "import numpy as np  "
   ]
  },
  {
   "cell_type": "code",
   "execution_count": null,
   "metadata": {},
   "outputs": [],
   "source": [
    "#Read in the datasets from their respective spreadsheets into dataframes\n",
    "historical_energy_data = pd.read_csv('historical_energy_data.csv')\n",
    "infrastructure_data = pd.read_csv('infrastructure_data.csv')\n",
    "market_data = pd.read_csv('market_data.csv')\n",
    "regulatory_data = pd.read_csv('regulatory_data.csv') "
   ]
  },
  {
   "cell_type": "markdown",
   "metadata": {},
   "source": [
    "**Datasets' Structure**"
   ]
  },
  {
   "cell_type": "code",
   "execution_count": null,
   "metadata": {},
   "outputs": [],
   "source": [
    "historical_energy_data.head(10) "
   ]
  },
  {
   "cell_type": "code",
   "execution_count": null,
   "metadata": {},
   "outputs": [],
   "source": [
    "infrastructure_data.head(10)"
   ]
  },
  {
   "cell_type": "code",
   "execution_count": null,
   "metadata": {},
   "outputs": [],
   "source": [
    "market_data.head(10)"
   ]
  },
  {
   "cell_type": "code",
   "execution_count": null,
   "metadata": {},
   "outputs": [],
   "source": [
    "regulatory_data.head(10)"
   ]
  },
  {
   "cell_type": "code",
   "execution_count": null,
   "metadata": {},
   "outputs": [],
   "source": [
    "market_data.info()\n",
    "market_data.describe()"
   ]
  },
  {
   "cell_type": "markdown",
   "metadata": {},
   "source": [
    "**Data Cleaning**"
   ]
  },
  {
   "cell_type": "code",
   "execution_count": null,
   "metadata": {},
   "outputs": [],
   "source": [
    "#Changing Date Format on Historical Energy Data.\n",
    "date_format = \"%d/%m/%Y\"\n",
    "\n",
    "historical_energy_data[\"Date/Time\"]=pd.to_datetime(historical_energy_data[\"Date/Time\"], format=date_format, exact=True)\n",
    "\n",
    "new_date_format = \"%Y-%m-%d\"\n",
    "\n",
    "historical_energy_data[\"Date/Time\"] = pd.to_datetime(historical_energy_data[\"Date/Time\"], format=new_date_format, exact=True) \n",
    "\n",
    "historical_energy_data.head(1)"
   ]
  },
  {
   "cell_type": "code",
   "execution_count": null,
   "metadata": {},
   "outputs": [],
   "source": [
    "#Changing Date Format on Infrastructure & Maintainance Records.\n",
    "date_format = \"%d/%m/%Y\"\n",
    "\n",
    "infrastructure_data[\"Date/Time\"]=pd.to_datetime(infrastructure_data[\"Date/Time\"], format=date_format, exact=True)\n",
    "\n",
    "new_date_format = \"%Y-%m-%d\"\n",
    "\n",
    "infrastructure_data[\"Date/Time\"] = pd.to_datetime(infrastructure_data[\"Date/Time\"], format=new_date_format, exact=True)\n",
    "\n",
    "\n",
    "infrastructure_data.head(1)"
   ]
  },
  {
   "cell_type": "code",
   "execution_count": null,
   "metadata": {},
   "outputs": [],
   "source": [
    "#Changing Date Format on Market Data.\n",
    "new_format = \"%Y-%m-%d\"\n",
    "\n",
    "market_data[\"Date/Time\"] = pd.to_datetime(market_data[\"Date/Time\"], format=new_format, exact=True)\n",
    "\n",
    "regulatory_data.head(1)"
   ]
  },
  {
   "cell_type": "code",
   "execution_count": null,
   "metadata": {},
   "outputs": [],
   "source": [
    "#Changing Date Format on Regulatory & Compliance Data.\n",
    "new_date_format = \"%Y-%m-%d\"\n",
    "\n",
    "regulatory_data[\"Date/Time\"] = pd.to_datetime(regulatory_data[\"Date/Time\"], format=new_date_format, exact=True)\n",
    "\n",
    "regulatory_data.head(1)"
   ]
  },
  {
   "cell_type": "markdown",
   "metadata": {},
   "source": [
    "**Explorative Data Analysis(Investigating the Categorical Columns)**\n",
    "\n",
    "We will examine the following:\n",
    "\n",
    "- Location/Region and Energy Source from historical_energy_data dataset.\n",
    "- Infrastructure Status, Maintainance Activities, and Technology Limitations from infrastructure_data dataset.\n",
    "- Competitor Data and Market Trends from Market_data dataset.\n",
    "- Regulatory Changes and Compliance Status from regulatory_data dataset."
   ]
  },
  {
   "cell_type": "code",
   "execution_count": null,
   "metadata": {},
   "outputs": [],
   "source": [
    "#Grouping all datasets as a dataset\n",
    "datasets = {\n",
    "    \"historical_energy_data\": historical_energy_data,\n",
    "    \"infrastructure_data\": infrastructure_data,\n",
    "    \"market_data\":market_data,\n",
    "    \"Regulatory_data\": regulatory_data  \n",
    "}\n",
    "\n",
    "#Extracting unique value and their counts for categorical columns\n",
    "categorical_columns = {\n",
    "    \"historical_energy_data\":[\"Location/Region\", \"Energy Source\"],\n",
    "    \"infrastructure_data\":[\"Infrastructure Status\", \"Maintenance Activities\", \"Technology Limitations\"], \n",
    "    \"market_data\":[\"Competitor Data\", \"Market Trends\"],\n",
    "    \"Regulatory_data\": [\"Regulatory Changes\", \"Compliance Status\"]   \n",
    "}\n",
    "\n",
    "categorical_value_counts = {}\n",
    "for dataset, columns in categorical_columns.items():\n",
    "    for column in columns:\n",
    "        categorical_value_counts[(dataset, column)] = datasets[dataset][column].value_counts()"
   ]
  },
  {
   "cell_type": "code",
   "execution_count": null,
   "metadata": {},
   "outputs": [],
   "source": [
    "#Visualising \n",
    "#Calculating te numbers of rows and columns\n",
    "num_rows = (len(categorical_value_counts)+ 1) // 2\n",
    "num_cols = 2\n",
    "\n",
    "#Create a grid of the subplots \n",
    "fig, axes = plt.subplots(num_rows, num_cols, figsize=(12,12))\n",
    "\n",
    "#flatten the axes for easier indexing\n",
    "axes = axes.flatten()\n",
    "\n",
    "#iterate through categorical columns and plot the in subplots\n",
    "for i, ((dataset, column), counts) in enumerate(categorical_value_counts.items()):\n",
    "    ax = axes[i]\n",
    "    sns.barplot(x=counts.values, y=counts.index, ax=ax)\n",
    "    ax.set_title(f\"Values Counts for {dataset} - {column}\")\n",
    "    ax.set_xlabel(\"Count\")\n",
    "    ax.set_ylabel(column)\n",
    "\n",
    "#hide any remaining subplots \n",
    "for i in range(len(categorical_value_counts), num_rows * num_cols):\n",
    "    fig.delaxes(axes[i])\n",
    "\n",
    "plt.tight_layout()\n",
    "\n",
    "plt.show()"
   ]
  },
  {
   "cell_type": "markdown",
   "metadata": {},
   "source": [
    "**Energy Demand, Production, and Consumption Over Time**\n",
    "\n",
    "- We will be examining the trends in energy demand, production and consumption from the historical_energy_data datasets.\n",
    "- This will gives insights in flunctuations and potetials vulnerabiltes in the energy market."
   ]
  },
  {
   "cell_type": "code",
   "execution_count": null,
   "metadata": {},
   "outputs": [],
   "source": [
    "#Extract the month and year from the \"Date/Time\" column\n",
    "historical_energy_data['Month']=historical_energy_data['Date/Time'].dt.month\n",
    "historical_energy_data['Year'] =historical_energy_data['Date/Time'].dt.year\n",
    "\n",
    "#A new column 'Year-Month' is created for easy plotting\n",
    "historical_energy_data['Year-Month'] = historical_energy_data['Date/Time'].dt.to_period('M')\n",
    "\n",
    "#Aggregating data on a monthly basis\n",
    "monthly_data = historical_energy_data.groupby('Year-Month').mean(numeric_only=True)\n",
    "\n",
    "#setting figure size\n",
    "plt.figure(figsize=(15,9))\n",
    "\n",
    "#plotting\n",
    "sns.lineplot(data=monthly_data, x=monthly_data.index.astype(str), y='Energy Production (kWh)', label='Energy Production (kWh)', color='blue', linestyle='-', linewidth=1.5, errorbar=None)\n",
    "sns.lineplot(data=monthly_data, x=monthly_data.index.astype(str), y='Energy Consumption (kWh)', label='Energy Consumption (kWh)', color='red', linestyle='-', linewidth=1.5, errorbar=None)\n",
    "sns.lineplot(data=monthly_data, x=monthly_data.index.astype(str), y='Energy Demand', label='Energy Demand (kWh)', color='green', linestyle='-', linewidth=1.5, errorbar=None)\n",
    "\n",
    "#Setting the title and labels\n",
    "plt.title('Quarterly Aggregrate of Energy Production, Consumption and Demand Over Time')\n",
    "plt.xlabel('Date')\n",
    "plt.ylabel('kWh')\n",
    "plt.legend(loc='upper left', bbox_to_anchor=(1,1))\n",
    "plt.grid(visible=True, which='both', linestyle='--', linewidth=0.5)\n",
    "\n",
    "#setting our labels\n",
    "labels = monthly_data.index.astype(str).tolist()\n",
    "n=4\n",
    "plt.xticks(labels[::n], rotation=360)\n",
    "\n",
    "plt.tight_layout\n",
    "plt.show()"
   ]
  },
  {
   "cell_type": "markdown",
   "metadata": {},
   "source": [
    "**Market Price and Energy Price Over Time**\n",
    "\n",
    "- To understand the pricing dynamics and its relation to market trends.\n",
    "- Visualisation of Market Price from the market_data dataset alongside the data from historical_energy_data dataset over time."
   ]
  },
  {
   "cell_type": "code",
   "execution_count": null,
   "metadata": {},
   "outputs": [],
   "source": [
    "#Merging market_data and historical_energy_data on Date/Time column for combined analysis\n",
    "merged_data = pd.merge(historical_energy_data, market_data, on='Date/Time', how='inner')\n",
    "\n",
    "#Setting 'Date/Time' as the index of the Dataframe for aggregation\n",
    "merged_data['Year'] = merged_data['Date/Time'].dt.year\n",
    "merged_data['Month'] = merged_data['Date/Time'].dt.month\n",
    "\n",
    "#Aggregating data on a monthly basis\n",
    "monthly_merged_data = merged_data.groupby(['Year', 'Month']).mean(numeric_only=True)\n",
    "\n",
    "#Create a new 'Year-Month' column for plotting \n",
    "monthly_merged_data['Year-Month'] = monthly_merged_data.index.get_level_values(0).astype(str)+'-'+monthly_merged_data.index.get_level_values(1).astype(str)\n",
    "\n",
    "plt.figure(figsize=(15,6))\n",
    "\n",
    "sns.lineplot(data=monthly_merged_data, x='Year-Month', y='Market Price', label='Market Price($)', color='blue', linestyle='-', linewidth=1.5, errorbar=None)\n",
    "sns.lineplot(data=monthly_merged_data, x='Year-Month', y='Energy Price', label='Energy Price($)', color='yellow', linestyle='-', linewidth=1.5, errorbar=None)\n",
    "\n",
    "#Setting the title and labels\n",
    "plt.title('Quarterly Aggregrate of Market Price and Energy Price Over Time')\n",
    "plt.xlabel('Date')\n",
    "plt.ylabel('Price/Unit ($/kWh)')\n",
    "plt.legend(loc='upper left', bbox_to_anchor=(1,1))\n",
    "plt.grid(visible=True, which='both', linestyle='-', linewidth=0.5)\n",
    "\n",
    "#setting our labels\n",
    "labels = monthly_merged_data['Year-Month'].tolist()\n",
    "n=4\n",
    "plt.xticks(labels[::n], rotation=360)\n",
    "\n",
    "plt.tight_layout\n",
    "plt.show()\n"
   ]
  },
  {
   "cell_type": "markdown",
   "metadata": {},
   "source": [
    "**Energy Demand and Energy Price Correlation**\n",
    "\n",
    "- Let's check if the energy demand is influenced by the current energy price."
   ]
  },
  {
   "cell_type": "code",
   "execution_count": null,
   "metadata": {},
   "outputs": [],
   "source": [
    "correlation_energy_price = merged_data['Energy Demand'].corr(merged_data['Energy Price'])\n",
    "correlation_market_price = merged_data['Market Demand'].corr(merged_data['Market Price'])\n",
    "\n",
    "print(correlation_energy_price)\n",
    "print(correlation_market_price)"
   ]
  },
  {
   "cell_type": "code",
   "execution_count": null,
   "metadata": {},
   "outputs": [],
   "source": [
    "plt.scatter(x=merged_data['Market Price'], y=merged_data['Energy Price'])\n",
    "plt.title('Correlation Between Market Price and Energy Price')\n",
    "plt.xlabel('Market Price (USD/kWh)')\n",
    "plt.ylabel('Energy Price (USD/kWh)')\n",
    "plt.grid(visible=True, which='both', linestyle='-', linewidth=0.5)"
   ]
  },
  {
   "cell_type": "markdown",
   "metadata": {},
   "source": [
    "**Infrastructure Status And Technological Limitations**\n",
    "\n",
    "- To understand the state of infrastructure and technology over time.\n",
    "- Visualising the frequency of various infrastructure status values and the distribution of Technology limitations from the infrastructure_data dataset."
   ]
  },
  {
   "cell_type": "code",
   "execution_count": null,
   "metadata": {},
   "outputs": [],
   "source": [
    "#Setting up the figure and axes \n",
    "fig, axes = plt.subplots(1,2, figsize=(15,8))\n",
    "\n",
    "#Plotting the frequency of Infrastructure Status\n",
    "sns.countplot(data=infrastructure_data, x='Infrastructure Status', ax=axes[0], order=['Good', 'Fair', 'Poor'], hue='Infrastructure Status', legend=False)\n",
    "axes[0].set_title('Frequency of Infrastructure Status')\n",
    "axes[0].set_xlabel('Infrastructure Status')\n",
    "axes[0].set_ylabel('Count')\n",
    "\n",
    "#Plotting the frequency of Technology Limitations\n",
    "sns.countplot(data=infrastructure_data, x='Technology Limitations', ax=axes[1], hue='Technology Limitations', legend=False)\n",
    "axes[1].set_title('Frequency of Technology Limitations')\n",
    "axes[1].set_xlabel('Technology Limitations')\n",
    "axes[1].set_ylabel('Count')\n",
    "\n",
    "plt.tight_layout()\n",
    "plt.show()"
   ]
  },
  {
   "cell_type": "markdown",
   "metadata": {},
   "source": [
    "**What is the relationship/correlation between infrastructure status and technological limitation?**"
   ]
  },
  {
   "cell_type": "code",
   "execution_count": null,
   "metadata": {},
   "outputs": [],
   "source": [
    "#Crosstab Computation between the Infrastructure Status Column & Technology Limitations.\n",
    "ct = pd.crosstab(infrastructure_data['Infrastructure Status'], infrastructure_data['Technology Limitations'])\n",
    "\n",
    "#Setting up the figure size\n",
    "plt.figure(figsize=(10,6))\n",
    "\n",
    "#Plotting the likelihood matrix between the two columns from their crosstab computation result.\n",
    "sns.heatmap(ct, annot=True, cmap='viridis', fmt='.3g')\n",
    "plt.title('Infrastructure Status VS Technology Limitations')\n",
    "plt.xlabel('Technology Limitations')\n",
    "plt.ylabel('Infrastructure Status')\n",
    "\n",
    "plt.tight_layout()\n",
    "plt.show()"
   ]
  },
  {
   "cell_type": "markdown",
   "metadata": {},
   "source": [
    "- Correlation between poor infrastructure status and high technology limitation and the energy production."
   ]
  },
  {
   "cell_type": "code",
   "execution_count": null,
   "metadata": {},
   "outputs": [],
   "source": [
    "#Quantifying the categorical columns 'infrastructure Status' & 'Technology Limitations'.\n",
    "infrastructure_data['Poor Infrastructure'] = infrastructure_data['Infrastructure Status'].apply(lambda x: 1 if x == 'Poor' else 0)\n",
    "infrastructure_data['High_Tech_Limitations'] = infrastructure_data['Technology Limitations'].apply(lambda x: 1 if x == 'High' else 0)\n",
    "\n",
    "#Finding their resultant.\n",
    "infrastructure_data['Combined'] = infrastructure_data['Poor Infrastructure'] * infrastructure_data['High_Tech_Limitations']\n",
    "\n",
    "#Merge Historical Energy data & Infrastructure and Maintainance Records.\n",
    "merged_data = pd.merge(historical_energy_data, infrastructure_data, on='Date/Time', how='inner')\n",
    "\n",
    "#Finding the correlation coefficient of Energy Production and the resultant of the categorical columns.\n",
    "correlation_coefficient = merged_data['Energy Production (kWh)'].corr(merged_data['Combined'])\n",
    "\n",
    "correlation_coefficient\n",
    "#Plotting a scatter plot to visualize to the correlation coefficient.\n",
    "plt.scatter(x=merged_data['Energy Production (kWh)'], y=merged_data['Combined'])"
   ]
  },
  {
   "cell_type": "markdown",
   "metadata": {},
   "source": [
    "**Regulatory Changes and Compliance Costs**\n",
    "\n",
    "- To understand the impact of regulatory changes.\n",
    "- Visualising the frequency of various Regulatory changes and the distrubution of Compliance Costs associated with these changes from the regulatory_data dataset."
   ]
  },
  {
   "cell_type": "code",
   "execution_count": null,
   "metadata": {},
   "outputs": [],
   "source": [
    "##Setting up the figure and axes\n",
    "fig, (ax1,ax2) = plt.subplots(1, 2, figsize=(15, 6))\n",
    "\n",
    "#Plotting a countplot for each category in the categorical coloumn 'Regulatory Changes'\n",
    "sns.countplot(data=regulatory_data, x='Regulatory Changes', ax=ax1, hue='Regulatory Changes', legend=False)\n",
    "ax1.set_title('Frequency of Regulatory Changes')\n",
    "ax1.set_xlabel('Regulatory Changes')\n",
    "ax1.set_ylabel('Count')\n",
    "\n",
    "#Plotting an histogram and a kde for the Compliance costs columns\n",
    "sns.histplot(data=regulatory_data, x='Compliance Costs', ax=ax2, bins=30, color='skyblue', kde=True)\n",
    "ax2.set_title('Distribution of Compliance Costs')\n",
    "ax2.set_xlabel('Compliance Costs($)')\n",
    "ax2.set_ylabel('Frequency')\n",
    "\n",
    "plt.tight_layout()\n",
    "plt.show()"
   ]
  },
  {
   "cell_type": "markdown",
   "metadata": {},
   "source": [
    "**Impact of Regulatory Changes and Operational Cost on Revenue**\n",
    "- Visualising the relationship between Regulatory Changes and the associated Compliance Costs, as well as the Operational Costs to the Revenue generated from the company.\n",
    "- Revenue = Energy Consumption * Energy Price\n",
    "- This will provide insights into the financial implications of regulatory changes cost and operational cost for Energix Enterprise."
   ]
  },
  {
   "cell_type": "code",
   "execution_count": null,
   "metadata": {},
   "outputs": [],
   "source": [
    "#Calculating Energix Enterprise Revenue\n",
    "historical_energy_data['Revenue'] = historical_energy_data['Energy Price'] * historical_energy_data['Energy Consumption (kWh)']\n",
    "\n",
    "#Merge Historical Energy data & Regulatory and Compliance Data.\n",
    "merged_regulatory_data = pd.merge(historical_energy_data, regulatory_data, on='Date/Time', how='inner')\n",
    "\n",
    "#Isolate the Year and & Month for each record\n",
    "merged_regulatory_data['Year'] = merged_regulatory_data['Date/Time'].dt.year\n",
    "merged_regulatory_data['Month'] = merged_regulatory_data['Date/Time'].dt.month\n",
    "\n",
    "#Find the monthly aggregate for the merged data.\n",
    "monthly_aggregate_data = merged_regulatory_data.groupby(['Year', 'Month']).mean(numeric_only=True).reset_index()\n",
    "\n",
    "#Create a new column to have the year and month in 'Year-Month' format\n",
    "monthly_aggregate_data['Year-Month'] = monthly_aggregate_data['Year'].astype(str) +'-'+ monthly_aggregate_data['Month'].astype(str)\n",
    "\n",
    "#Setting the figure size\n",
    "plt.figure(figsize=(15, 6))\n",
    "\n",
    "#Plot a composite area chart of both the operational costs and the compliance costs\n",
    "plt.fill_between(monthly_aggregate_data['Year-Month'], monthly_aggregate_data['Operational Costs'], color='blue', label='Operational Costs', alpha=0.5)\n",
    "plt.fill_between(monthly_aggregate_data['Year-Month'], monthly_aggregate_data['Operational Costs'], monthly_aggregate_data['Operational Costs'] +  monthly_aggregate_data['Compliance Costs'], color='green', label='Compliance Costs', alpha=0.5)\n",
    "\n",
    "#Plot a line graph of the revenue of Energix Enterprise\n",
    "sns.lineplot(data=monthly_aggregate_data, x='Year-Month', y='Revenue', label='Revenue', color='red', linewidth=2)\n",
    "\n",
    "#Setting other features of the plot\n",
    "plt.title('Impact of Regulatory Changes Operational, Revenue, and Compliance Costs (Month Aggregated)')\n",
    "plt.xlabel('Date')\n",
    "plt.ylabel('Amount($)')\n",
    "plt.legend(loc='upper left', bbox_to_anchor=(1,1))\n",
    "plt.grid(visible=True, which='both', linestyle='--', linewidth=0.5)\n",
    "labels = monthly_aggregate_data['Year-Month'].tolist()\n",
    "n = 3\n",
    "plt.xticks(labels[::n], rotation=360)\n",
    "plt.tight_layout()\n",
    "plt.show()"
   ]
  },
  {
   "cell_type": "markdown",
   "metadata": {},
   "source": [
    "**Analyzing Competition from Renewable Energy Providers**\n",
    "- To understand the competition from renewable energy providers and its impact on Energix Enterprise, we will analyze the Energy Source column the historical_energy_data dataset.\n",
    "- Visualizing the trends in energy production based on the energy source (Foosil Fuels vs. Renewables) over time. This will give us insights into how the production from renewables has evolved and potentially affected the company's market share."
   ]
  },
  {
   "cell_type": "code",
   "execution_count": null,
   "metadata": {},
   "outputs": [],
   "source": [
    "#Calculating the monthly aggreagte of the Energy production of Energix enterprise using the Historical Energy Data\n",
    "monthly_aggregate_data = historical_energy_data.groupby(['Year', 'Month', 'Energy Source']).sum(numeric_only=True)['Energy Production (kWh)'].reset_index()\n",
    "\n",
    "#Create a new column to have the year and month in 'Year-Month' format\n",
    "monthly_aggregate_data['Year-Month'] = monthly_aggregate_data['Year'].astype(str) +'-'+ monthly_aggregate_data['Month'].astype(str)\n",
    "\n",
    "#Setting the figure size\n",
    "plt.figure(figsize=(15,6))\n",
    "\n",
    "#Plot a line graph for each Energy Source Production. i.e. Fossil Fuel and Renewables\n",
    "sns.lineplot(data=monthly_aggregate_data, x='Year-Month', y='Energy Production (kWh)', hue='Energy Source', errorbar=None)\n",
    "\n",
    "#Setting other features of the plot\n",
    "plt.title('Monthly Aggregate of Energy Production Trends by Energy Source Over Time')\n",
    "plt.xlabel('Date')\n",
    "plt.ylabel('Energy Production (kWh)')\n",
    "plt.legend(title='Energy Source', loc='upper left', bbox_to_anchor=(1,1))\n",
    "plt.grid(visible=True, which='both', linestyle='--', linewidth=0.5)\n",
    "labels = monthly_aggregate_data['Year-Month'].tolist()\n",
    "n = 4\n",
    "plt.xticks(labels[::n], rotation=360)\n",
    "plt.tight_layout()\n",
    "plt.show()"
   ]
  },
  {
   "cell_type": "markdown",
   "metadata": {},
   "source": [
    "**General Insights**\n",
    "\n",
    "- *Dynamic Energy Landscape*: Energix Enterprises experiences marked variances in energy production, consumption amd demand patterns. There are distinct periods where the demand overshadows productions, highlights potential areas of concern in market stability and supply consistency.\n",
    "\n",
    "- *Pricing Volatility*: Energix's energy pricing exhibits variability in alignment with broader market price trends.Notaly, the energy price remains uncorrelated with energy demand, presenting potential challenges in sales predictability and revenue forecasting.\n",
    "\n",
    "- *Infrastructure and Technological Concerns*: A significance portion of the company's Infrastructure is categorized as 'Poor'. Coupled with pronounced technology limitations, there's a compelling case for comprehensive infrastructure rejuvenation. Preliminary analysis suggests that periods of 'Poor' infrastructure status and 'High' technology constraints mat correlatewith diminished energy production.\n",
    "\n",
    "- *Regulatory and Financial Implications*: Energix is continually navigating a changing regulatory landscape, with new mandatesand modifications to existing ones. The financial ramifications, especially in terms of compliances costs and operational expenditures, are substantial. A juxtaposition of these costs with the firm's current revenuetrajectory indicates a pressing profitabilty challenge.\n",
    "\n",
    "- *Emergence of Renewables*: The energy market is experiencing a paradigm shift wit renewables gaining prominence. Data trends suggests instances where renewable energy production has eclipsed that of fossil fuels. For Energix , this underscoresthe dual challenges of evolving competition and potential erosion of market share.\n",
    "\n",
    "\n",
    "**Resilience Planning and Recommendations**\n",
    "\n",
    "- *Balanced Energy Portfolio*: Energix Enterprise should consider diversifying its energy production portfolio to mitigate the risks associated with fluctuations in demand and production. A balanced mix of renewable and non-renewable sources can help stabilize the energy supply and meet demand more consistently.\n",
    "\n",
    "- *Dynamic Pricing Model*: Given that energy price doesn't correlate with energy demand, Energix should consider implementing a dynamic pricing model. This model can adjust prices based on demand, production costs, and other market factors. Such a model can help in improving sales during high-demand periods and maintaining profitability during low-demand times.\n",
    "\n",
    "- *Infrastructure Revamp*: With most of the company's infrastructure in 'Poor' status and high technology limitations, Energix should prioritize investments in infrastructure upgrades. Modernizing infrastructure can lead to increased production efficiency, reduced downtimes, and potentially higher energy output.\n",
    "\n",
    "- *Regulatory Compliance Fund and Operational Cost*: Given the periodic introduction of new regulations and The associated compliance costs and also operational cost. Energix should establish a dedicated fund or reserve to address these unforeseen expenses. This approach can help in budgeting and ensuring that costs don't significantly impact the company's bottom line.\n",
    "\n",
    "- *Embrace Renewables*: The trend towards renewable energy is evident. Energix should consider increasing its investments in renewable energy technologies and infrastructure. This not only aligns with global sustainability goals but also positions the company to better compete in an evolving energy market.\n",
    "\n",
    "- *Cost Management & Revenue Generation*: Considering the operational and compliance costs are impacting profitability, Energix should undertake a thorough review of its operations to identify cost-saving opportunities. Additionally, exploring alternative revenue streams, such as energy storage solutions or consultancy services, can further bolster the company's financial position.\n",
    "\n",
    "- *Stakeholder Engagement*: Engage with regulatory bodies proactively to stay ahead of potential regulatory changes. This proactive approach can help in better preparation and can also influence regulations in a manner favorable to Energix.\n",
    "\n",
    "- *Market Research & Consumer Insights*: Conduct regular market research to understand consumer preferences, especially concerning renewable energy. This can guide Energix's strategy in terms of energy source diversification and pricing.\n",
    "\n",
    "In conclusion, while Energix faces challenges in terms of fluctuating demand, aging infrastructure, and increasing competition from renewables, there are clear strategic paths available. By modernizing infrastructure, diversifying energy sources, and adopting a dynamic pricing model, Energix can position itself for sustained growth and profitability in the future energy market."
   ]
  }
 ],
 "metadata": {
  "kernelspec": {
   "display_name": "Python 3",
   "language": "python",
   "name": "python3"
  },
  "language_info": {
   "codemirror_mode": {
    "name": "ipython",
    "version": 3
   },
   "file_extension": ".py",
   "mimetype": "text/x-python",
   "name": "python",
   "nbconvert_exporter": "python",
   "pygments_lexer": "ipython3",
   "version": "3.11.3"
  }
 },
 "nbformat": 4,
 "nbformat_minor": 2
}
